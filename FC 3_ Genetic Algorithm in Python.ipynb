{
 "cells": [
  {
   "cell_type": "markdown",
   "id": "cee4590b",
   "metadata": {},
   "source": [
    "# FC 3: Genetic Algorithm in Python\n",
    "\n",
    "#### Kitzia Ximena Carranza Alvarez 170732"
   ]
  },
  {
   "cell_type": "markdown",
   "id": "d57c8a21",
   "metadata": {},
   "source": [
    "To solve this problem, part of the codes provided in:\n",
    "  Stoltz, E. (2021, March 18). Evolution of a salesman: A complete genetic algorithm tutorial for Python. Medium. https://towardsdatascience.com/evolution-of-a-salesman-a-complete-genetic-algorithm-tutorial-for-python-6fe5d2b3ca35\n",
    "\n",
    "GeeksforGeeks. (2024c, March 8). Genetic algorithms. GeeksforGeeks. https://www.geeksforgeeks.org/genetic-algorithms/\n",
    "\n",
    "Made the necessary changes and adjustments because the codes were very general and for this practice a more specific task was requested that consisted only of finding the best route from one destination to another and not going through all the destinations to return to the beginning."
   ]
  },
  {
   "cell_type": "code",
   "execution_count": 29,
   "id": "8e3a3368",
   "metadata": {},
   "outputs": [],
   "source": [
    "# Import the NumPy library to facilitate its use in mathematical operations and array management.\n",
    "import numpy as np\n",
    "\n",
    "# Import the 'random' module to generate pseudo-random numbers and perform random operations such as selection or shuffling.\n",
    "import random\n",
    "\n",
    "# Import the 'operator' module to use efficient functions like addition or comparison.\n",
    "import operator\n",
    "\n",
    "# Import the 'pandas' for manipulation and analysis of structured data.\n",
    "import pandas as pd\n",
    "\n",
    "# Import the 'matplotlib.pyplot' for creating static, animated, and interactive graphical visualizations.\n",
    "import matplotlib.pyplot as plt\n"
   ]
  },
  {
   "cell_type": "markdown",
   "id": "cef51103",
   "metadata": {},
   "source": [
    "## Step 1: Definition of the subway map\n",
    "Representation of the subway map containing the stations, the connections between them and the travel time."
   ]
  },
  {
   "cell_type": "code",
   "execution_count": 30,
   "id": "b1c452fd",
   "metadata": {},
   "outputs": [],
   "source": [
    "#This represents a simplified map of a subway system\n",
    "#where each key is a subway station and each value represents the travel time in minutes required to reach them.\n",
    "subway_map = {\n",
    "    'El Rosario': {'Instituto del Petróleo': 6},\n",
    "    'Cuatro Caminos': {'Tacuba': 2},\n",
    "    'Tacuba': {'Cuatro Caminos': 2, 'Panteones': 2},\n",
    "    'Panteones': {'Tacuba': 2, 'Tacubaya': 2},\n",
    "    'Tacubaya': {'Panteones': 2, 'San Pedro de los Pinos': 2},\n",
    "    'San Pedro de los Pinos': {'Tacubaya': 2, 'Mixcoac': 2},\n",
    "    'Mixcoac': {'San Pedro de los Pinos': 2, 'Barranca del Muerto': 2},\n",
    "    'Barranca del Muerto': {'Mixcoac': 2},\n",
    "    'Instituto del Petróleo': {'El Rosario': 6, 'Deportivo 18 de Marzo': 2},\n",
    "    'Deportivo 18 de Marzo': {'Instituto del Petróleo': 2, 'La Raza': 2},\n",
    "    'La Raza': {'Deportivo 18 de Marzo': 2, 'Consulado': 3, 'Potrero': 2},\n",
    "    'Potrero': {'La Raza': 2, 'Lindavista': 2},\n",
    "    'Lindavista': {'Potrero': 2, 'Instituto del Petróleo': 2},\n",
    "    'Consulado': {'La Raza': 3, 'San Lázaro': 4, 'Morelos': 2},\n",
    "    'Morelos': {'Consulado': 2, 'Candelaria': 2},\n",
    "    'Candelaria': {'Morelos': 2, 'San Lázaro': 2},\n",
    "    'San Lázaro': {'Consulado': 4, 'Candelaria': 2}}"
   ]
  },
  {
   "cell_type": "code",
   "execution_count": 31,
   "id": "8710157f",
   "metadata": {},
   "outputs": [],
   "source": [
    "# Iterate over each station and its connections in the subway map\n",
    "for station, connections in list(subway_map.items()):\n",
    "    # Iterate over each connected station and the number of segments to it\n",
    "    for connected_station, segments in list(connections.items()):\n",
    "        # Check if the connected station is already in the map as a main key\n",
    "        if connected_station not in subway_map:\n",
    "            # If not, add it to the map with an empty dictionary for its connections\n",
    "            subway_map[connected_station] = {}\n",
    "        # Check if the main station is in the connections of the connected station\n",
    "        if station not in subway_map[connected_station]:\n",
    "            # If not, add the main station to the connections of the connected station\n",
    "            # and assign the number of segments, ensuring bidirectionality\n",
    "            subway_map[connected_station][station] = segments"
   ]
  },
  {
   "cell_type": "markdown",
   "id": "f5489843",
   "metadata": {},
   "source": [
    "## Step 2: Creation of the Chromosome\n",
    "Each chromosome will be a list of stations that represents a possible path between \"El Rosario\" and \"San Lázaro\". The initial generation will be random within the possible connections."
   ]
  },
  {
   "cell_type": "code",
   "execution_count": 32,
   "id": "b4f4edfd",
   "metadata": {},
   "outputs": [],
   "source": [
    "def generate_random_route(start, end, subway_map):\n",
    "    current_station = start  # Start at the initial station\n",
    "    route = [start]  # Initialize the route with the starting station\n",
    "    \n",
    "    while current_station != end:\n",
    "        # Get potential next stations that are not already in the route to avoid direct loops\n",
    "        next_stations = [station for station in subway_map[current_station] if station not in route]\n",
    "        \n",
    "        # If no next stations are available (i.e., we've reached a dead end), restart the route generation\n",
    "        if not next_stations:\n",
    "            return generate_random_route(start, end, subway_map)\n",
    "        \n",
    "        # Randomly select the next station and add it to the route\n",
    "        next_station = random.choice(next_stations)\n",
    "        route.append(next_station)\n",
    "        current_station = next_station  # Move to the next station\n",
    "    \n",
    "    return route  # Return the complete route from start to end"
   ]
  },
  {
   "cell_type": "code",
   "execution_count": 33,
   "id": "7ba3c271",
   "metadata": {},
   "outputs": [
    {
     "data": {
      "text/plain": [
       "['El Rosario',\n",
       " 'Instituto del Petróleo',\n",
       " 'Lindavista',\n",
       " 'Potrero',\n",
       " 'La Raza',\n",
       " 'Consulado',\n",
       " 'Morelos',\n",
       " 'Candelaria',\n",
       " 'San Lázaro']"
      ]
     },
     "execution_count": 33,
     "metadata": {},
     "output_type": "execute_result"
    }
   ],
   "source": [
    "# Test generating a random route with the created function\n",
    "random_route = generate_random_route('El Rosario', 'San Lázaro', subway_map)\n",
    "random_route"
   ]
  },
  {
   "cell_type": "markdown",
   "id": "00effc86",
   "metadata": {},
   "source": [
    "## Step 3: Fitness Function\n",
    "The fitness function will evaluate the total length of the route in terms of segments between stations since it seeks to minimize this number."
   ]
  },
  {
   "cell_type": "code",
   "execution_count": 34,
   "id": "16fdb7b0",
   "metadata": {},
   "outputs": [],
   "source": [
    "def calculate_fitness(route, subway_map):\n",
    "    try:\n",
    "        # Calculate the total number of segments in the route. The sum iterates over each station in the route\n",
    "        # (except the last one) and adds up the segments from one station to the next as defined in the subway map.\n",
    "        total_segments = sum(subway_map[route[i]][route[i + 1]] for i in range(len(route) - 1))\n",
    "        return 1 / total_segments  # Return the inverse of the total segments to minimize the distance.\n",
    "                                   # This makes routes with fewer segments have higher fitness values.\n",
    "    except KeyError:\n",
    "        # If a KeyError occurs (because the route tries to access a connection between stations that doesn't exist),\n",
    "        # return a fitness of 0, indicating an invalid route.\n",
    "        return 0"
   ]
  },
  {
   "cell_type": "markdown",
   "id": "738d8bc2",
   "metadata": {},
   "source": [
    "## Step 4: Selection\n",
    "Select the chromosomes most suitable for reproduction. A common technique is tournament selection."
   ]
  },
  {
   "cell_type": "code",
   "execution_count": 35,
   "id": "838c376c",
   "metadata": {},
   "outputs": [],
   "source": [
    "def tournament_selection(population, tournament_size, subway_map):\n",
    "    # Choose a random sample of individuals from the population to participate in the tournament.\n",
    "    # The size of this sample is determined by the 'tournament_size' parameter.\n",
    "    tournament = random.sample(population, tournament_size)\n",
    "    \n",
    "    # Select the best individual from the tournament sample.\n",
    "    # The 'max' function is used here with a key function that computes the fitness of each individual using the 'calculate_fitness' function.\n",
    "    # This ensures that the individual with the highest fitness (lowest total segments in their route) is selected.\n",
    "    best_individual = max(tournament, key=lambda individual: calculate_fitness(individual, subway_map))\n",
    "    \n",
    "    # Return the individual with the highest fitness in the tournament.\n",
    "    return best_individual"
   ]
  },
  {
   "cell_type": "markdown",
   "id": "aa344494",
   "metadata": {},
   "source": [
    "## Step 5: Crossover\n",
    "The junction operator will combine two routes to produce a new route. Here we will use an ordered safe crossing that preserves the order of stations on major routes to maintain route viability"
   ]
  },
  {
   "cell_type": "code",
   "execution_count": 36,
   "id": "58750413",
   "metadata": {},
   "outputs": [],
   "source": [
    "def safe_ordered_crossover(parent1, parent2, subway_map):\n",
    "    # Select two random points in the route to define the crossover region. This is done by sampling two indices from the parent route's length.\n",
    "    start, end = sorted(random.sample(range(len(parent1)), 2))\n",
    "    \n",
    "    # Create the child route by combining the segment before the start index from parent1,\n",
    "    # the segment between start and end index from parent2, and the segment after the end index from parent1.\n",
    "    child = parent1[:start] + parent2[start:end] + parent1[end:]\n",
    "    \n",
    "    # Initialize a list to keep the validated part of the child route starting with the first station of parent1.\n",
    "    valid_child = [parent1[0]]\n",
    "    \n",
    "    # Iterate over each station in the child route starting from the second station.\n",
    "    for station in child[1:]:\n",
    "        # Get the last valid station added to the child.\n",
    "        last_station = valid_child[-1]\n",
    "        \n",
    "        # Check if the current station is directly connected to the last valid station in the map.\n",
    "        # This step ensures that the child route maintains valid consecutive stations as per the subway map.\n",
    "        if station in subway_map[last_station]:\n",
    "            # If valid, add this station to the valid_child list.\n",
    "            valid_child.append(station)\n",
    "    \n",
    "    # Check if the length of the valid_child route matches the original child route.\n",
    "    # If they match, it means the whole route is valid and can be returned.\n",
    "    # If not, it means some parts of the child route were invalid, and the crossover process is repeated.\n",
    "    return valid_child if len(valid_child) == len(child) else safe_ordered_crossover(parent1, parent2, subway_map)\n"
   ]
  },
  {
   "cell_type": "markdown",
   "id": "0792632e",
   "metadata": {},
   "source": [
    "## Step 6: Mutation\n",
    "The mutation will introduce small random changes and also checks the validity of the connections"
   ]
  },
  {
   "cell_type": "code",
   "execution_count": 37,
   "id": "20f0a4fc",
   "metadata": {},
   "outputs": [],
   "source": [
    "def safe_mutate(route, mutation_rate, subway_map):\n",
    "    # Check if a mutation should occur based on a random chance less than the specified mutation rate.\n",
    "    if random.random() < mutation_rate:\n",
    "        # Select a random index in the route to swap with the next index, avoiding the first and last stations\n",
    "        # to prevent creating routes that don't start or end at the designated start/end points.\n",
    "        idx = random.randint(1, len(route) - 2)  # Avoid the ends of the route\n",
    "\n",
    "        # Before performing the swap, check if the potential swap would result in a valid connection.\n",
    "        # after the current index in the subway map. This ensures that the mutation won't create\n",
    "        # an invalid route.\n",
    "        if route[idx + 1] in subway_map[route[idx - 1]]:\n",
    "            # Swap the selected station with the next station if the resulting segment is valid.\n",
    "            route[idx], route[idx + 1] = route[idx + 1], route[idx]\n",
    "\n",
    "    # Return the potentially mutated route. If the mutation condition wasn't met or the swap was invalid,\n",
    "    # the original route is returned unchanged.\n",
    "    return route"
   ]
  },
  {
   "cell_type": "markdown",
   "id": "cb029e5e",
   "metadata": {},
   "source": [
    "## Step 7: Initialization\n",
    "Create an initial population of random routes to start the genetic algorithm"
   ]
  },
  {
   "cell_type": "code",
   "execution_count": 38,
   "id": "e0f0b59f",
   "metadata": {},
   "outputs": [
    {
     "data": {
      "text/plain": [
       "[['El Rosario',\n",
       "  'Instituto del Petróleo',\n",
       "  'Lindavista',\n",
       "  'Potrero',\n",
       "  'La Raza',\n",
       "  'Consulado',\n",
       "  'Morelos',\n",
       "  'Candelaria',\n",
       "  'San Lázaro'],\n",
       " ['El Rosario',\n",
       "  'Instituto del Petróleo',\n",
       "  'Lindavista',\n",
       "  'Potrero',\n",
       "  'La Raza',\n",
       "  'Consulado',\n",
       "  'San Lázaro'],\n",
       " ['El Rosario',\n",
       "  'Instituto del Petróleo',\n",
       "  'Deportivo 18 de Marzo',\n",
       "  'La Raza',\n",
       "  'Consulado',\n",
       "  'San Lázaro'],\n",
       " ['El Rosario',\n",
       "  'Instituto del Petróleo',\n",
       "  'Deportivo 18 de Marzo',\n",
       "  'La Raza',\n",
       "  'Consulado',\n",
       "  'Morelos',\n",
       "  'Candelaria',\n",
       "  'San Lázaro'],\n",
       " ['El Rosario',\n",
       "  'Instituto del Petróleo',\n",
       "  'Deportivo 18 de Marzo',\n",
       "  'La Raza',\n",
       "  'Consulado',\n",
       "  'Morelos',\n",
       "  'Candelaria',\n",
       "  'San Lázaro'],\n",
       " ['El Rosario',\n",
       "  'Instituto del Petróleo',\n",
       "  'Lindavista',\n",
       "  'Potrero',\n",
       "  'La Raza',\n",
       "  'Consulado',\n",
       "  'San Lázaro'],\n",
       " ['El Rosario',\n",
       "  'Instituto del Petróleo',\n",
       "  'Deportivo 18 de Marzo',\n",
       "  'La Raza',\n",
       "  'Consulado',\n",
       "  'San Lázaro'],\n",
       " ['El Rosario',\n",
       "  'Instituto del Petróleo',\n",
       "  'Deportivo 18 de Marzo',\n",
       "  'La Raza',\n",
       "  'Consulado',\n",
       "  'Morelos',\n",
       "  'Candelaria',\n",
       "  'San Lázaro'],\n",
       " ['El Rosario',\n",
       "  'Instituto del Petróleo',\n",
       "  'Deportivo 18 de Marzo',\n",
       "  'La Raza',\n",
       "  'Consulado',\n",
       "  'San Lázaro'],\n",
       " ['El Rosario',\n",
       "  'Instituto del Petróleo',\n",
       "  'Deportivo 18 de Marzo',\n",
       "  'La Raza',\n",
       "  'Consulado',\n",
       "  'San Lázaro']]"
      ]
     },
     "execution_count": 38,
     "metadata": {},
     "output_type": "execute_result"
    }
   ],
   "source": [
    "def create_initial_population(pop_size, start, end, subway_map):\n",
    "    # Initialize an empty list to hold the population of routes.\n",
    "    population = []\n",
    "    # Loop through the number of individuals needed in the population.\n",
    "    for _ in range(pop_size):\n",
    "        # Generate a random route from the start station to the end station using the subway map.\n",
    "        # Append each generated route to the population list.\n",
    "        population.append(generate_random_route(start, end, subway_map))\n",
    "    # Return the complete list of routes which forms the initial population for the genetic algorithm.\n",
    "    return population\n",
    "\n",
    "# Define the size of the initial population\n",
    "population_size = 10  # This is an arbitrary number representing the number of routes in the population.\n",
    "\n",
    "# Generate the initial population using the function defined above.\n",
    "# 'El Rosario' is the starting station, 'San Lázaro' is the destination, and 'subway_map' is the map of the metro.\n",
    "initial_population = create_initial_population(population_size, 'El Rosario', 'San Lázaro', subway_map)\n",
    "\n",
    "# Display the generated initial population. This line outputs the list of routes.\n",
    "# Each route is a list of station names, representing a possible path from 'El Rosario' to 'San Lázaro'.\n",
    "initial_population  "
   ]
  },
  {
   "cell_type": "markdown",
   "id": "9399b0f6",
   "metadata": {},
   "source": [
    "## Step 8: Execution of the Genetic Algorithm\n",
    "This is the main loop that runs the genetic algorithm for a fixed number of generations."
   ]
  },
  {
   "cell_type": "code",
   "execution_count": 42,
   "id": "fa7db3ca",
   "metadata": {},
   "outputs": [
    {
     "name": "stdout",
     "output_type": "stream",
     "text": [
      "Generation 0: Best Fitness = 0.058823529411764705\n",
      "Generation 1: Best Fitness = 0.058823529411764705\n",
      "Generation 2: Best Fitness = 0.058823529411764705\n",
      "Generation 3: Best Fitness = 0.058823529411764705\n",
      "Generation 4: Best Fitness = 0.058823529411764705\n",
      "Generation 5: Best Fitness = 0.058823529411764705\n",
      "Generation 6: Best Fitness = 0.058823529411764705\n",
      "Generation 7: Best Fitness = 0.058823529411764705\n",
      "Generation 8: Best Fitness = 0.058823529411764705\n",
      "Generation 9: Best Fitness = 0.058823529411764705\n",
      "Generation 10: Best Fitness = 0.058823529411764705\n",
      "Generation 11: Best Fitness = 0.058823529411764705\n",
      "Generation 12: Best Fitness = 0.058823529411764705\n",
      "Generation 13: Best Fitness = 0.058823529411764705\n",
      "Generation 14: Best Fitness = 0.058823529411764705\n",
      "Best route from 'El Rosario' to 'San Lázaro': ['El Rosario', 'Instituto del Petróleo', 'Deportivo 18 de Marzo', 'La Raza', 'Consulado', 'San Lázaro']\n"
     ]
    }
   ],
   "source": [
    "def genetic_algorithm(subway_map, start_station, end_station, pop_size, generations, mutation_rate):\n",
    "    # Create an initial population of routes from the start station to the end station using the subway map.\n",
    "    population = create_initial_population(pop_size, start_station, end_station, subway_map)\n",
    "\n",
    "    # Iterate through the specified number of generations to evolve the population.\n",
    "    for generation in range(generations):\n",
    "        new_population = []  # Prepare a new population for the next generation.\n",
    "        # Iterate over the current population to generate a new population.\n",
    "        for _ in range(len(population)):\n",
    "            # Select two parents from the current population using tournament selection.\n",
    "            parent1 = tournament_selection(population, 3, subway_map)\n",
    "            parent2 = tournament_selection(population, 3, subway_map)\n",
    "            # Generate a child by performing a crossover between the two parents.\n",
    "            child = safe_ordered_crossover(parent1, parent2, subway_map)\n",
    "            # Mutate the child at a specified mutation rate.\n",
    "            child = safe_mutate(child, mutation_rate, subway_map)\n",
    "            # Add the mutated child to the new population.\n",
    "            new_population.append(child)\n",
    "        population = new_population  # Replace the old population with the new population.\n",
    "        # Calculate and print the best fitness in the current generation to monitor progress.\n",
    "        best_fitness = max(calculate_fitness(route, subway_map) for route in population)\n",
    "        print(f\"Generation {generation}: Best Fitness = {best_fitness}\")\n",
    "\n",
    "    # After all generations, select the route with the best fitness from the final population.\n",
    "    best_route = max(population, key=lambda route: calculate_fitness(route, subway_map))\n",
    "    return best_route\n",
    "\n",
    "# Set parameters for the genetic algorithm.\n",
    "pop_size = 10  # The number of routes in the population.\n",
    "generations = 15  # The number of generations to evolve the population.\n",
    "mutation_rate = 0.1  # The probability of mutating a route.\n",
    "\n",
    "# Execute the genetic algorithm to find the best route from 'El Rosario' to 'San Lázaro'.\n",
    "best_route_found = genetic_algorithm(subway_map, 'El Rosario', 'San Lázaro', pop_size, generations, mutation_rate)\n",
    "\n",
    "# Print the best route found by the genetic algorithm.\n",
    "print(\"Best route from 'El Rosario' to 'San Lázaro':\", best_route_found)"
   ]
  },
  {
   "cell_type": "markdown",
   "id": "3ac12bc6",
   "metadata": {},
   "source": [
    "## Additional step: map the improvement\n",
    "With a simple adjustment of our genetic algorithm function, we can store the shortest distance of each generation in a progress list and then plot the results."
   ]
  },
  {
   "cell_type": "code",
   "execution_count": null,
   "id": "355f052d",
   "metadata": {},
   "outputs": [],
   "source": [
    "\n",
    "#Code of reference:\n",
    "# def geneticAlgorithmPlot(population, popSize, eliteSize, mutationRate, generations):\n",
    "   # pop = initialPopulation(popSize, population)\n",
    "    #progress = []\n",
    "    #progress.append(1 / rankRoutes(pop)[0][1])\n",
    "    \n",
    "    #for i in range(0, generations):\n",
    "      #  pop = nextGeneration(pop, eliteSize, mutationRate)\n",
    "      # progress.append(1 / rankRoutes(pop)[0][1])\n",
    "    \n",
    "   # plt.plot(progress)\n",
    "   # plt.ylabel('Distance')\n",
    "   # plt.xlabel('Generation')\n",
    "   # plt.show() \n"
   ]
  },
  {
   "cell_type": "markdown",
   "id": "efe194e4",
   "metadata": {},
   "source": [
    "## Modified code for graphics"
   ]
  },
  {
   "cell_type": "code",
   "execution_count": 43,
   "id": "eba22060",
   "metadata": {},
   "outputs": [
    {
     "name": "stdout",
     "output_type": "stream",
     "text": [
      "Generation 0: Best Fitness = 19.0\n",
      "Generation 1: Best Fitness = 17.0\n",
      "Generation 2: Best Fitness = 17.0\n",
      "Generation 3: Best Fitness = 17.0\n",
      "Generation 4: Best Fitness = 17.0\n",
      "Generation 5: Best Fitness = 17.0\n",
      "Generation 6: Best Fitness = 17.0\n",
      "Generation 7: Best Fitness = 17.0\n",
      "Generation 8: Best Fitness = 17.0\n",
      "Generation 9: Best Fitness = 17.0\n",
      "Generation 10: Best Fitness = 17.0\n",
      "Generation 11: Best Fitness = 17.0\n",
      "Generation 12: Best Fitness = 17.0\n",
      "Generation 13: Best Fitness = 17.0\n",
      "Generation 14: Best Fitness = 17.0\n",
      "Generation 15: Best Fitness = 17.0\n",
      "Generation 16: Best Fitness = 17.0\n",
      "Generation 17: Best Fitness = 17.0\n",
      "Generation 18: Best Fitness = 17.0\n",
      "Generation 19: Best Fitness = 17.0\n"
     ]
    },
    {
     "data": {
      "image/png": "[encoded data removed]",
      "text/plain": [
       "<Figure size 640x480 with 1 Axes>"
      ]
     },
     "metadata": {},
     "output_type": "display_data"
    },
    {
     "name": "stdout",
     "output_type": "stream",
     "text": [
      "Best route from 'El Rosario' to 'San Lázaro': ['El Rosario', 'Instituto del Petróleo', 'Deportivo 18 de Marzo', 'La Raza', 'Consulado', 'San Lázaro']\n"
     ]
    }
   ],
   "source": [
    "import matplotlib.pyplot as plt  # Import the library for plotting\n",
    "\n",
    "def genetic_algorithm_with_plot(subway_map, start_station, end_station, pop_size, generations, mutation_rate):\n",
    "    # Create an initial population of routes from the start station to the end station using the subway map\n",
    "    population = create_initial_population(pop_size, start_station, end_station, subway_map)\n",
    "    # Initialize a list to track the progress of the best fitness value in each generation\n",
    "    progress = []\n",
    "    # Calculate and append the initial best fitness value (inverse of total segments) to the progress list\n",
    "    best_fitness = min(calculate_fitness(route, subway_map) for route in population)\n",
    "    progress.append(1 / best_fitness)\n",
    "\n",
    "    # Loop through the specified number of generations to evolve the population\n",
    "    for generation in range(generations):\n",
    "        new_population = []  # Prepare a new population for the next generation\n",
    "        # Iterate through the current population to generate a new population\n",
    "        for _ in range(len(population)):\n",
    "            # Select two parents from the current population using tournament selection\n",
    "            parent1 = tournament_selection(population, 3, subway_map)\n",
    "            parent2 = tournament_selection(population, 3, subway_map)\n",
    "            # Generate a child by performing a crossover between the two parents\n",
    "            child = safe_ordered_crossover(parent1, parent2, subway_map)\n",
    "            # Mutate the child at a specified mutation rate\n",
    "            child = safe_mutate(child, mutation_rate, subway_map)\n",
    "            # Add the mutated child to the new population\n",
    "            new_population.append(child)\n",
    "        population = new_population  # Replace the old population with the new population\n",
    "        # Calculate the best fitness in the current generation and update the progress list\n",
    "        best_fitness = min(calculate_fitness(route, subway_map) for route in population)\n",
    "        progress.append(1 / best_fitness)\n",
    "        # Print the best fitness of the current generation to monitor progress\n",
    "        print(f\"Generation {generation}: Best Fitness = {1 / best_fitness}\")\n",
    "\n",
    "    # Find and return the route with the best fitness from the final population\n",
    "    best_route = min(population, key=lambda route: calculate_fitness(route, subway_map))\n",
    "\n",
    "    # Plot the progress of the best fitness over the generations\n",
    "    plt.plot(progress)\n",
    "    plt.ylabel('Fitness (inverse of total distance)')\n",
    "    plt.xlabel('Generation')\n",
    "    plt.title('Progress of the Best Fitness over Generations')\n",
    "    plt.show()\n",
    "\n",
    "    return best_route\n",
    "\n",
    "# Parameters for the genetic algorithm\n",
    "pop_size = 10  # Number of routes in the population\n",
    "generations = 20  # Number of generations to evolve the population\n",
    "mutation_rate = 0.1  # Probability of mutating a route\n",
    "\n",
    "# Run the genetic algorithm and plot the results\n",
    "best_route_found = genetic_algorithm_with_plot(subway_map, 'El Rosario', 'San Lázaro', pop_size, generations, mutation_rate)\n",
    "print(\"Best route from 'El Rosario' to 'San Lázaro':\", best_route_found)\n"
   ]
  },
  {
   "cell_type": "code",
   "execution_count": null,
   "id": "dfad9852",
   "metadata": {},
   "outputs": [],
   "source": []
  }
 ],
 "metadata": {
  "kernelspec": {
   "display_name": "Python 3 (ipykernel)",
   "language": "python",
   "name": "python3"
  },
  "language_info": {
   "codemirror_mode": {
    "name": "ipython",
    "version": 3
   },
   "file_extension": ".py",
   "mimetype": "text/x-python",
   "name": "python",
   "nbconvert_exporter": "python",
   "pygments_lexer": "ipython3",
   "version": "3.11.5"
  }
 },
 "nbformat": 4,
 "nbformat_minor": 5
}
